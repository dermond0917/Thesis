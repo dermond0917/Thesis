{
  "nbformat": 4,
  "nbformat_minor": 0,
  "metadata": {
    "accelerator": "GPU",
    "colab": {
      "name": "flask_test.ipynb",
      "provenance": [],
      "collapsed_sections": [
        "Sjc7oKcVS63y"
      ],
      "mount_file_id": "1L4qsE98wAGh5nrJjWfiU7FC4uGWNjyr4",
      "authorship_tag": "ABX9TyN3Oj8+PCNxtnjb9Bi6XKZP"
    },
    "kernelspec": {
      "display_name": "Python 3",
      "name": "python3"
    },
    "language_info": {
      "name": "python"
    }
  },
  "cells": [
    {
      "cell_type": "markdown",
      "metadata": {
        "id": "By5AlSa5TI7D"
      },
      "source": [
        "###Dependencies"
      ]
    },
    {
      "cell_type": "code",
      "metadata": {
        "id": "opKHIGg2zMx-"
      },
      "source": [
        "%cd drive/MyDrive/sqlovaa/sqlova"
      ],
      "execution_count": null,
      "outputs": []
    },
    {
      "cell_type": "code",
      "metadata": {
        "id": "20xOU9DryiYF"
      },
      "source": [
        "!pip install flask-ngrok"
      ],
      "execution_count": null,
      "outputs": []
    },
    {
      "cell_type": "code",
      "metadata": {
        "id": "B5ztpqELlhAi"
      },
      "source": [
        "!pip3 install sqlalchemy==1.3\n",
        "!pip3 install records==0.5.2\n",
        "!pip3 install babel matplotlib defusedxml tqdm\n",
        "!pip3 install ujson stanza\n",
        "\n",
        "import stanza\n",
        "# Download the Stanford CoreNLP package with Stanza's installation command\n",
        "# This'll take several minutes, depending on the network speed\n",
        "corenlp_dir = './corenlp'\n",
        "#stanza.install_corenlp(dir=corenlp_dir)\n",
        "\n",
        "# Set the CORENLP_HOME environment variable to point to the installation location\n",
        "import os\n",
        "os.environ[\"CORENLP_HOME\"] = corenlp_dir\n",
        "#!ls $CORENLP_HOME\n",
        "\n",
        "!pip3 install konlpy\n",
        "!pip3 install random"
      ],
      "execution_count": null,
      "outputs": []
    },
    {
      "cell_type": "code",
      "metadata": {
        "id": "SfAKg60jTaOw"
      },
      "source": [
        "# KoBERT requirements\n",
        "\n",
        "!pip install mxnet>=1.4.0\n",
        "!pip install gluonnlp pandas tqdm\n",
        "!pip install sentencepiece\n",
        "!pip install transformers==3\n",
        "!pip install torch\n",
        "\n",
        "!pip install git+https://git@github.com/SKTBrain/KoBERT.git@master"
      ],
      "execution_count": null,
      "outputs": []
    },
    {
      "cell_type": "code",
      "metadata": {
        "id": "1d8o2FEPP3Mt"
      },
      "source": [
        "!pip3 install pyrebase"
      ],
      "execution_count": null,
      "outputs": []
    },
    {
      "cell_type": "code",
      "metadata": {
        "id": "nOv1mrllj0sD"
      },
      "source": [
        "!pip3 install pyrebase"
      ],
      "execution_count": null,
      "outputs": []
    },
    {
      "cell_type": "markdown",
      "metadata": {
        "id": "LvuAPvurS_nY"
      },
      "source": [
        "###mcS"
      ]
    },
    {
      "cell_type": "code",
      "metadata": {
        "colab": {
          "base_uri": "https://localhost:8080/"
        },
        "id": "MMQm8Oc9Ubu9",
        "outputId": "5d5ace6e-8fd0-4510-a417-194ba1b2d2a5"
      },
      "source": [
        "import os, json\n",
        "\n",
        "from flask import Flask\n",
        "from flask_ngrok import run_with_ngrok\n",
        "from flask import Flask, request, render_template\n",
        "\n",
        "import pyrebase\n",
        "\n",
        "import add_question_ale\n",
        "from add_question_ale import question_to_json\n",
        "import add_csv_ale\n",
        "from add_csv_ale import csv_to_sqlite,csv_to_json\n",
        "import annotate_ws_okt\n",
        "from annotate_ws_okt import annotate_ale, count_lines\n",
        "from predict_ale import run_predict, args_ale\n",
        "#from predict_ale_kobert_imp import run_predict\n",
        "\n",
        "from tqdm import tqdm\n",
        "\n",
        "import jsonl\n",
        "\n",
        "import uuid\n",
        "\n",
        "config = {\n",
        "    \n",
        "}\n",
        "\n",
        "firebase = pyrebase.initialize_app(config)\n",
        "\n",
        "db = firebase.database()\n",
        "storage = firebase.storage()\n",
        "\n",
        "app = Flask(__name__)\n",
        "run_with_ngrok(app)   \n",
        "\n",
        "user_id=\"\"\n",
        "\n",
        "dsaved = '../marie_query'\n",
        "\n",
        "def annotate(din, dout, user_id, att):\n",
        "    fquestions = os.path.join(din, user_id) + '_'+att + '.jsonl'\n",
        "    ftable = os.path.join(din, user_id) + '.tables.jsonl'\n",
        "    ftok = os.path.join(dout, user_id) + '_'+att + '_tok.jsonl'\n",
        "    \n",
        "    with open(fquestions, encoding='utf-8') as fq, open(ftable, encoding='utf-8') as ft, open(ftok, 'wt', encoding='utf-8') as fo:\n",
        "            \n",
        "            tables = {}\n",
        "            for line in tqdm(ft, total=count_lines(ftable)):\n",
        "                d = json.loads(line)\n",
        "                tables[d['id']] = d\n",
        "            print('loading examples')\n",
        "            n_written = 0\n",
        "            cnt = -1\n",
        "            for line in tqdm(fq, total=count_lines(fquestions)):\n",
        "                cnt += 1\n",
        "                d = json.loads(line)\n",
        "                a = annotate_ale(d, tables[d['table_id']])\n",
        "                fo.write(json.dumps(a, ensure_ascii=False) + '\\n')\n",
        "                n_written += 1\n",
        "\n",
        "def print_predicted(dsaved, user_id,att):\n",
        "    origin_data = jsonl.load_jsonl(\"{}/results_{}_{}.jsonl\".format(dsaved,user_id,att))\n",
        "    nlu_sql={}\n",
        "    for d in origin_data:\n",
        "        nlu_sql[d['nlu']+'\\n']=d['sql']+'\\n'\n",
        "    return nlu_sql\n",
        "\n",
        "\n",
        "# route main page\n",
        "@app.route('/')\n",
        "def index():\n",
        "    return render_template(\"index3.html\")\n",
        "\n",
        "# data prediction\n",
        "@app.route('/add_data', methods=['POST'])\n",
        "def add_data():\n",
        "    if request.method =='POST':\n",
        "        user_id = uuid.uuid4()\n",
        "        \n",
        "        table = request.files['table']\n",
        "        table_name = table.filename\n",
        "        tid = table_name[:-4]\n",
        "        table.save(os.path.join(dsaved, table_name))\n",
        "        \n",
        "        csv_to_sqlite(tid, table_name, '{}.db'.format(user_id), dsaved)\n",
        "        csv_to_json(tid, table_name, '{}.tables.jsonl'.format(user_id), dsaved)\n",
        "        storage.child(\"{}/{}.db\".format(user_id, user_id)).put(\"{}/{}.db\".format(dsaved, user_id))\n",
        "        storage.child(\"{}/{}.tables.jsonl\".format(user_id, user_id)).put(\"{}/{}.tables.jsonl\".format(dsaved, user_id))\n",
        "        #os.remove(os.path.join(dsaved, table_name))\n",
        "\n",
        "        return render_template(\"query.html\", tid=tid, user_id = user_id, att = 0)\n",
        "    return render_template(\"index3.html\")\n",
        "\n",
        "@app.route('/predict', methods=['POST'])\n",
        "def predict():\n",
        "    if request.method =='POST':\n",
        "        #upload data\n",
        "        user_id = request.form['uid']\n",
        "        att = request.form['att']\n",
        "        tid = request.form['tid']\n",
        "        json_file_name = '{}_{}.jsonl'.format(user_id, att)\n",
        "\n",
        "        nlu = request.form['nlu']\n",
        "        questions = nlu.split('\\n')\n",
        "\n",
        "        for q in questions:\n",
        "          print(q)\n",
        "          question_to_json(tid, q.strip('\\n\\r'), json_file_name, dsaved)\n",
        "\n",
        "        storage.child(\"{}/{}\".format(user_id, json_file_name)).put(\"{}/{}\".format(dsaved, json_file_name))\n",
        "        annotate(dsaved, dsaved, user_id, att)\n",
        "        storage.child(\"{}/{}_{}_tok.jsonl\".format(dsaved, user_id, att)).put(\"{}/{}_{}_tok.jsonl\".format(dsaved, user_id, att))\n",
        "        \n",
        "        run_predict('../result_files/okt/mcS/model_best.pt', '../result_files/okt/mcS/model_bert_best.pt', './data_and_model', dsaved, user_id, att,'../marie_query')\n",
        "        result_dict = print_predicted(dsaved, user_id, att)\n",
        "\n",
        "        return render_template(\"query.html\", predicted=result_dict.items(), tid=tid, user_id = user_id)\n",
        "    return render_template(\"index3.html\")\n",
        "\n",
        "if __name__=='__main__':\n",
        "\tapp.run()"
      ],
      "execution_count": null,
      "outputs": [
        {
          "output_type": "stream",
          "name": "stdout",
          "text": [
            " * Serving Flask app \"__main__\" (lazy loading)\n",
            " * Environment: production\n",
            "\u001b[31m   WARNING: This is a development server. Do not use it in a production deployment.\u001b[0m\n",
            "\u001b[2m   Use a production WSGI server instead.\u001b[0m\n",
            " * Debug mode: off\n"
          ]
        },
        {
          "output_type": "stream",
          "name": "stderr",
          "text": [
            " * Running on http://127.0.0.1:5000/ (Press CTRL+C to quit)\n"
          ]
        },
        {
          "output_type": "stream",
          "name": "stdout",
          "text": [
            " * Running on http://ff44-34-122-80-106.ngrok.io\n",
            " * Traffic stats available on http://127.0.0.1:4040\n"
          ]
        },
        {
          "output_type": "stream",
          "name": "stderr",
          "text": [
            "127.0.0.1 - - [21/Oct/2021 22:37:34] \"\u001b[37mGET / HTTP/1.1\u001b[0m\" 200 -\n",
            "127.0.0.1 - - [21/Oct/2021 22:37:35] \"\u001b[37mGET /static/css/style0.css HTTP/1.1\u001b[0m\" 200 -\n",
            "127.0.0.1 - - [21/Oct/2021 22:37:35] \"\u001b[37mGET /static/img/dog.png HTTP/1.1\u001b[0m\" 200 -\n",
            "127.0.0.1 - - [21/Oct/2021 22:37:35] \"\u001b[37mGET /static/js/TableCsv.js HTTP/1.1\u001b[0m\" 200 -\n",
            "127.0.0.1 - - [21/Oct/2021 22:37:35] \"\u001b[33mGET /favicon.ico HTTP/1.1\u001b[0m\" 404 -\n",
            "127.0.0.1 - - [21/Oct/2021 22:37:47] \"\u001b[37mPOST /add_data HTTP/1.1\u001b[0m\" 200 -\n",
            "127.0.0.1 - - [21/Oct/2021 22:37:47] \"\u001b[37mGET /static/css/style1.css HTTP/1.1\u001b[0m\" 200 -\n"
          ]
        },
        {
          "output_type": "stream",
          "name": "stdout",
          "text": [
            "말보로 팀 알파 로미오는 몇 점을 득점했나요?\r\n",
            "말보로 팀 알파 로미오는 몇 점을 득점했나요?\n",
            "어떤 섀시가 39점을 기록했습니까?\r\n",
            "어떤 섀시가 39점을 기록했습니까?\n",
            "섀시가 티렐 007 이고 엔진은 포드 V8 일 때 몇 점을 기록했나요\n",
            "섀시가 티렐 007 이고 엔진은 포드 V8 일 때 몇 점을 기록했나요\n"
          ]
        },
        {
          "output_type": "stream",
          "name": "stderr",
          "text": [
            "100%|██████████| 1/1 [00:00<00:00, 5454.23it/s]\n"
          ]
        },
        {
          "output_type": "stream",
          "name": "stdout",
          "text": [
            "loading examples\n"
          ]
        },
        {
          "output_type": "stream",
          "name": "stderr",
          "text": [
            "100%|██████████| 3/3 [00:05<00:00,  1.83s/it]\n"
          ]
        },
        {
          "output_type": "stream",
          "name": "stdout",
          "text": [
            "BERT-type: multi_cased_L-12_H-768_A-12\n",
            "Batch_size = 32\n",
            "BERT parameters:\n",
            "learning rate: 1e-05\n",
            "Fine-tune BERT: False\n",
            "vocab size: 119547\n",
            "hidden_size: 768\n",
            "num_hidden_layer: 12\n",
            "num_attention_heads: 12\n",
            "hidden_act: gelu\n",
            "intermediate_size: 3072\n",
            "hidden_dropout_prob: 0.1\n",
            "attention_probs_dropout_prob: 0.1\n",
            "max_position_embeddings: 512\n",
            "type_vocab_size: 2\n",
            "initializer_range: 0.02\n",
            "Seq-to-SQL: the number of final BERT layers to be used: 2\n",
            "Seq-to-SQL: the size of hidden dimension = 100\n",
            "Seq-to-SQL: LSTM encoding layer size = 2\n",
            "Seq-to-SQL: dropout rate = 0.3\n",
            "Seq-to-SQL: learning rate = 0.0001\n"
          ]
        },
        {
          "output_type": "stream",
          "name": "stderr",
          "text": [
            "127.0.0.1 - - [21/Oct/2021 22:38:26] \"\u001b[37mPOST /predict HTTP/1.1\u001b[0m\" 200 -\n"
          ]
        },
        {
          "output_type": "stream",
          "name": "stdout",
          "text": [
            "{\"query\": {\"agg\": 0, \"sel\": 4, \"conds\": [[1, 0, \"말보로 팀 알파 로미오\"]]}, \"table_id\": \"my_test\", \"nlu\": \"말보로 팀 알파 로미오는 몇 점을 득점했나요?\", \"sql\": \"SELECT (점수) FROM my_test WHERE 참가자 = 말보로 팀 알파 로미오\"}\n",
            "\n",
            "1\n",
            "{\"query\": {\"agg\": 0, \"sel\": 2, \"conds\": [[4, 0, \"39\"]]}, \"table_id\": \"my_test\", \"nlu\": \"어떤 섀시가 39점을 기록했습니까?\", \"sql\": \"SELECT (섀시) FROM my_test WHERE 점수 = 39\"}\n",
            "\n",
            "2\n",
            "{\"query\": {\"agg\": 0, \"sel\": 4, \"conds\": [[2, 0, \"티렐 007\"], [3, 0, \"포드 v8\"]]}, \"table_id\": \"my_test\", \"nlu\": \"섀시가 티렐 007 이고 엔진은 포드 V8 일 때 몇 점을 기록했나요\", \"sql\": \"SELECT (점수) FROM my_test WHERE 섀시 = 티렐 007 AND 엔진 = 포드 v8\"}\n",
            "\n",
            "3\n",
            "Loaded 3 records from ../marie_query/results_fce28b30-f0ec-440c-9aeb-42edd074a48f_0.jsonl\n"
          ]
        }
      ]
    },
    {
      "cell_type": "markdown",
      "metadata": {
        "id": "Sjc7oKcVS63y"
      },
      "source": [
        "###KoBERT"
      ]
    },
    {
      "cell_type": "code",
      "metadata": {
        "colab": {
          "base_uri": "https://localhost:8080/"
        },
        "id": "GAycGYJZSoQA",
        "outputId": "129bb8ce-69fd-4c41-c487-35101d90d7aa"
      },
      "source": [
        "import os, json\n",
        "\n",
        "from flask import Flask\n",
        "from flask_ngrok import run_with_ngrok\n",
        "from flask import Flask, request, render_template\n",
        "\n",
        "import pyrebase\n",
        "\n",
        "import add_question_ale\n",
        "from add_question_ale import question_to_json\n",
        "import add_csv_ale\n",
        "from add_csv_ale import csv_to_sqlite,csv_to_json\n",
        "import annotate_ws_okt\n",
        "from annotate_ws_okt import annotate_ale, count_lines\n",
        "from predict_ale_kobert_imp import run_predict, args_ale\n",
        "\n",
        "from tqdm import tqdm\n",
        "\n",
        "import jsonl\n",
        "\n",
        "import uuid\n",
        "\n",
        "config = {\n",
        "    \n",
        "}\n",
        "\n",
        "firebase = pyrebase.initialize_app(config)\n",
        "\n",
        "db = firebase.database()\n",
        "storage = firebase.storage()\n",
        "\n",
        "app = Flask(__name__)\n",
        "run_with_ngrok(app)   \n",
        "\n",
        "user_id=\"\"\n",
        "\n",
        "dsaved = './data_and_model/marie_query'\n",
        "\n",
        "def annotate(din, dout, user_id, att):\n",
        "    fquestions = os.path.join(din, user_id) + '_'+att + '.jsonl'\n",
        "    ftable = os.path.join(din, user_id) + '.tables.jsonl'\n",
        "    ftok = os.path.join(dout, user_id) + '_'+att + '_tok.jsonl'\n",
        "    \n",
        "    with open(fquestions, encoding='utf-8') as fq, open(ftable, encoding='utf-8') as ft, open(ftok, 'wt', encoding='utf-8') as fo:\n",
        "            \n",
        "            tables = {}\n",
        "            for line in tqdm(ft, total=count_lines(ftable)):\n",
        "                d = json.loads(line)\n",
        "                tables[d['id']] = d\n",
        "            print('loading examples')\n",
        "            n_written = 0\n",
        "            cnt = -1\n",
        "            for line in tqdm(fq, total=count_lines(fquestions)):\n",
        "                cnt += 1\n",
        "                d = json.loads(line)\n",
        "                a = annotate_ale(d, tables[d['table_id']])\n",
        "                fo.write(json.dumps(a, ensure_ascii=False) + '\\n')\n",
        "                n_written += 1\n",
        "\n",
        "def print_predicted(dsaved, user_id,att):\n",
        "    origin_data = jsonl.load_jsonl(\"{}/results_{}_{}.jsonl\".format(dsaved,user_id,att))\n",
        "    nlu_sql={}\n",
        "    for d in origin_data:\n",
        "        nlu_sql[d['nlu']+'\\n']=d['sql']+'\\n'\n",
        "    return nlu_sql\n",
        "\n",
        "\n",
        "# route main page\n",
        "@app.route('/')\n",
        "def index():\n",
        "    return render_template(\"index3.html\")\n",
        "\n",
        "# data prediction\n",
        "@app.route('/add_data', methods=['POST'])\n",
        "#@app.route('/', methods=['POST'])\n",
        "def add_data():\n",
        "    if request.method =='POST':\n",
        "        #upload data\n",
        "        user_id = uuid.uuid4()\n",
        "        table = request.files['table']\n",
        "        table_name = table.filename\n",
        "        tid = table_name[:-4]\n",
        "        table.save(os.path.join(dsaved, table_name))\n",
        "        \n",
        "        csv_to_sqlite(tid, table_name, '{}.db'.format(user_id), dsaved)\n",
        "        csv_to_json(tid, table_name, '{}.tables.jsonl'.format(user_id), dsaved)\n",
        "        \n",
        "        storage.child(\"{}/{}.db\".format(user_id, user_id)).put(\"{}/{}.db\".format(dsaved, user_id))\n",
        "        storage.child(\"{}/{}.tables.jsonl\".format(user_id, user_id)).put(\"{}/{}.tables.jsonl\".format(dsaved, user_id))\n",
        "        #os.remove(os.path.join(dsaved, table_name))\n",
        "\n",
        "        return render_template(\"query.html\", tid=tid, user_id = user_id, att = 0)\n",
        "    return render_template(\"index3.html\")\n",
        "\n",
        "@app.route('/predict', methods=['POST'])\n",
        "def predict():\n",
        "    if request.method =='POST':\n",
        "        #upload data\n",
        "        user_id = request.form['uid']\n",
        "        att = request.form['att']\n",
        "        tid = request.form['tid']\n",
        "        json_file_name = '{}_{}.jsonl'.format(user_id, att)\n",
        "\n",
        "        nlu = request.form['nlu']\n",
        "        questions = nlu.split('\\n')\n",
        "\n",
        "        for q in questions:\n",
        "          print(q)\n",
        "          question_to_json(tid, q.strip('\\n\\r'), json_file_name, dsaved)\n",
        "\n",
        "        storage.child(\"{}/{}\".format(user_id, json_file_name)).put(\"{}/{}\".format(dsaved, json_file_name))\n",
        "        annotate(dsaved, dsaved, user_id, att)\n",
        "        \n",
        "        storage.child(\"{}/{}_tok.jsonl\".format(user_id, user_id)).put(\"{}/{}_tok.jsonl\".format(dsaved, user_id))\n",
        "        \n",
        "        run_predict('../result_files/okt/mcS/model_best.pt', '../result_files/okt/mcS/model_bert_best.pt', './data_and_model', dsaved, user_id, att,'./data_and_model/flask_test_1019/')\n",
        "\n",
        "        result_dict = print_predicted(dsaved, user_id, att)\n",
        "\n",
        "        return render_template(\"query.html\", predicted=result_dict.items(), tid=tid, user_id = user_id)\n",
        "    return render_template(\"index3.html\")\n",
        "\n",
        "if __name__=='__main__':\n",
        "\tapp.run()"
      ],
      "execution_count": null,
      "outputs": [
        {
          "name": "stdout",
          "output_type": "stream",
          "text": [
            " * Serving Flask app \"__main__\" (lazy loading)\n",
            " * Environment: production\n",
            "\u001b[31m   WARNING: This is a development server. Do not use it in a production deployment.\u001b[0m\n",
            "\u001b[2m   Use a production WSGI server instead.\u001b[0m\n",
            " * Debug mode: off\n"
          ]
        },
        {
          "name": "stderr",
          "output_type": "stream",
          "text": [
            " * Running on http://127.0.0.1:5000/ (Press CTRL+C to quit)\n"
          ]
        },
        {
          "name": "stdout",
          "output_type": "stream",
          "text": [
            " * Running on http://a875-35-190-140-197.ngrok.io\n",
            " * Traffic stats available on http://127.0.0.1:4040\n"
          ]
        },
        {
          "name": "stderr",
          "output_type": "stream",
          "text": [
            "127.0.0.1 - - [18/Oct/2021 21:55:08] \"\u001b[37mGET / HTTP/1.1\u001b[0m\" 200 -\n",
            "127.0.0.1 - - [18/Oct/2021 21:55:08] \"\u001b[37mGET /static/css/style0.css HTTP/1.1\u001b[0m\" 200 -\n",
            "127.0.0.1 - - [18/Oct/2021 21:55:08] \"\u001b[37mGET /static/img/dog.png HTTP/1.1\u001b[0m\" 200 -\n",
            "127.0.0.1 - - [18/Oct/2021 21:55:08] \"\u001b[37mGET /static/js/TableCsv.js HTTP/1.1\u001b[0m\" 200 -\n",
            "127.0.0.1 - - [18/Oct/2021 21:55:08] \"\u001b[33mGET /favicon.ico HTTP/1.1\u001b[0m\" 404 -\n",
            "127.0.0.1 - - [18/Oct/2021 21:55:16] \"\u001b[37mPOST /add_data HTTP/1.1\u001b[0m\" 200 -\n",
            "127.0.0.1 - - [18/Oct/2021 21:55:16] \"\u001b[37mGET /static/css/style1.css HTTP/1.1\u001b[0m\" 200 -\n"
          ]
        },
        {
          "name": "stdout",
          "output_type": "stream",
          "text": [
            "2008년 4월 4일 미국에서 방영된 에피소드의 이름은 무엇이었습니까?\n",
            "2008년 4월 4일 미국에서 방영된 에피소드의 이름은 무엇이었습니까?\n"
          ]
        },
        {
          "name": "stderr",
          "output_type": "stream",
          "text": [
            "100%|██████████| 1/1 [00:00<00:00, 3916.25it/s]\n"
          ]
        },
        {
          "name": "stdout",
          "output_type": "stream",
          "text": [
            "loading examples\n"
          ]
        },
        {
          "name": "stderr",
          "output_type": "stream",
          "text": [
            "100%|██████████| 1/1 [00:00<00:00, 22.52it/s]"
          ]
        },
        {
          "name": "stdout",
          "output_type": "stream",
          "text": [
            "BERT-type: kobert\n",
            "Batch_size = 32\n",
            "BERT parameters:\n",
            "learning rate: 1e-05\n",
            "Fine-tune BERT: False\n",
            "vocab size: 8002\n",
            "hidden_size: 768\n",
            "num_hidden_layer: 12\n",
            "num_attention_heads: 12\n",
            "hidden_act: gelu\n",
            "intermediate_size: 3072\n",
            "hidden_dropout_prob: 0.1\n",
            "attention_probs_dropout_prob: 0.1\n",
            "max_position_embeddings: 512\n",
            "type_vocab_size: 2\n",
            "initializer_range: 0.02\n"
          ]
        },
        {
          "name": "stderr",
          "output_type": "stream",
          "text": [
            "\n"
          ]
        },
        {
          "name": "stdout",
          "output_type": "stream",
          "text": [
            "using cached model\n",
            "using cached model\n",
            "using cached model\n",
            "Seq-to-SQL: the number of final BERT layers to be used: 2\n",
            "Seq-to-SQL: the size of hidden dimension = 100\n",
            "Seq-to-SQL: LSTM encoding layer size = 2\n",
            "Seq-to-SQL: dropout rate = 0.3\n",
            "Seq-to-SQL: learning rate = 0.0001\n"
          ]
        },
        {
          "name": "stderr",
          "output_type": "stream",
          "text": [
            "127.0.0.1 - - [18/Oct/2021 21:55:33] \"\u001b[37mPOST /predict HTTP/1.1\u001b[0m\" 200 -\n"
          ]
        },
        {
          "name": "stdout",
          "output_type": "stream",
          "text": [
            "{\"query\": {\"agg\": 0, \"sel\": 4, \"conds\": [[4, 0, \"2008년 4월 4일\"]]}, \"table_id\": \"k22222\", \"nlu\": \"2008년 4월 4일 미국에서 방영된 에피소드의 이름은 무엇이었습니까?\", \"sql\": \"SELECT (미국 방영일) FROM k22222 WHERE 미국 방영일 = 2008년 4월 4일\"}\n",
            "\n",
            "1\n",
            "Loaded 1 records from ./data_and_model/flask_test_1019/results_ec7339f2-4e61-4214-a670-cc6917777209_0.jsonl\n",
            "2008년 3월 17일의 캐나다 방영일에는 시즌 번호가 몇 개 있습니까?\n",
            "2008년 3월 17일의 캐나다 방영일에는 시즌 번호가 몇 개 있습니까?\n"
          ]
        },
        {
          "name": "stderr",
          "output_type": "stream",
          "text": [
            "100%|██████████| 1/1 [00:00<00:00, 5216.80it/s]\n"
          ]
        },
        {
          "name": "stdout",
          "output_type": "stream",
          "text": [
            "loading examples\n"
          ]
        },
        {
          "name": "stderr",
          "output_type": "stream",
          "text": [
            "100%|██████████| 1/1 [00:00<00:00, 85.19it/s]"
          ]
        },
        {
          "name": "stdout",
          "output_type": "stream",
          "text": [
            "BERT-type: kobert\n",
            "Batch_size = 32\n",
            "BERT parameters:\n",
            "learning rate: 1e-05\n",
            "Fine-tune BERT: False\n",
            "vocab size: 8002\n",
            "hidden_size: 768\n",
            "num_hidden_layer: 12\n",
            "num_attention_heads: 12\n",
            "hidden_act: gelu\n",
            "intermediate_size: 3072\n",
            "hidden_dropout_prob: 0.1\n",
            "attention_probs_dropout_prob: 0.1\n",
            "max_position_embeddings: 512\n",
            "type_vocab_size: 2\n",
            "initializer_range: 0.02\n"
          ]
        },
        {
          "name": "stderr",
          "output_type": "stream",
          "text": [
            "\n"
          ]
        },
        {
          "name": "stdout",
          "output_type": "stream",
          "text": [
            "using cached model\n",
            "using cached model\n",
            "using cached model\n",
            "Seq-to-SQL: the number of final BERT layers to be used: 2\n",
            "Seq-to-SQL: the size of hidden dimension = 100\n",
            "Seq-to-SQL: LSTM encoding layer size = 2\n",
            "Seq-to-SQL: dropout rate = 0.3\n",
            "Seq-to-SQL: learning rate = 0.0001\n"
          ]
        },
        {
          "name": "stderr",
          "output_type": "stream",
          "text": [
            "127.0.0.1 - - [18/Oct/2021 21:55:46] \"\u001b[37mPOST /predict HTTP/1.1\u001b[0m\" 200 -\n"
          ]
        },
        {
          "name": "stdout",
          "output_type": "stream",
          "text": [
            "{\"query\": {\"agg\": 0, \"sel\": 0, \"conds\": [[3, 0, \"2008년 3월 17일\"]]}, \"table_id\": \"k22222\", \"nlu\": \"2008년 3월 17일의 캐나다 방영일에는 시즌 번호가 몇 개 있습니까?\", \"sql\": \"SELECT (시즌 번호) FROM k22222 WHERE 캐나다 방영일 = 2008년 3월 17일\"}\n",
            "\n",
            "1\n",
            "Loaded 1 records from ./data_and_model/flask_test_1019/results_ec7339f2-4e61-4214-a670-cc6917777209_.jsonl\n",
            "&quot;믿는 걸 멈추지 마&quot;라는 제목의 에피소드가 시즌 중 가장 높은 수를 기록한 에피소드는 무엇입니까?\n",
            "&quot;믿는 걸 멈추지 마&quot;라는 제목의 에피소드가 시즌 중 가장 높은 수를 기록한 에피소드는 무엇입니까?\n",
            "미국 방영일이 2008년 8월 8일 일 떄의 캐나다 방영일이 무엇이었습니까?\n",
            "미국 방영일이 2008년 8월 8일 일 떄의 캐나다 방영일이 무엇이었습니까?\n"
          ]
        },
        {
          "name": "stderr",
          "output_type": "stream",
          "text": [
            "100%|██████████| 1/1 [00:00<00:00, 4563.99it/s]\n"
          ]
        },
        {
          "name": "stdout",
          "output_type": "stream",
          "text": [
            "loading examples\n"
          ]
        },
        {
          "name": "stderr",
          "output_type": "stream",
          "text": [
            "100%|██████████| 3/3 [00:00<00:00, 88.50it/s]"
          ]
        },
        {
          "name": "stdout",
          "output_type": "stream",
          "text": [
            "BERT-type: kobert\n",
            "Batch_size = 32\n",
            "BERT parameters:\n",
            "learning rate: 1e-05\n",
            "Fine-tune BERT: False\n",
            "vocab size: 8002\n",
            "hidden_size: 768\n",
            "num_hidden_layer: 12\n",
            "num_attention_heads: 12\n",
            "hidden_act: gelu\n",
            "intermediate_size: 3072\n",
            "hidden_dropout_prob: 0.1\n",
            "attention_probs_dropout_prob: 0.1\n",
            "max_position_embeddings: 512\n",
            "type_vocab_size: 2\n",
            "initializer_range: 0.02\n"
          ]
        },
        {
          "name": "stderr",
          "output_type": "stream",
          "text": [
            "\n"
          ]
        },
        {
          "name": "stdout",
          "output_type": "stream",
          "text": [
            "using cached model\n",
            "using cached model\n",
            "using cached model\n",
            "Seq-to-SQL: the number of final BERT layers to be used: 2\n",
            "Seq-to-SQL: the size of hidden dimension = 100\n",
            "Seq-to-SQL: LSTM encoding layer size = 2\n",
            "Seq-to-SQL: dropout rate = 0.3\n",
            "Seq-to-SQL: learning rate = 0.0001\n"
          ]
        },
        {
          "name": "stderr",
          "output_type": "stream",
          "text": [
            "127.0.0.1 - - [18/Oct/2021 21:56:04] \"\u001b[37mPOST /predict HTTP/1.1\u001b[0m\" 200 -\n"
          ]
        },
        {
          "name": "stdout",
          "output_type": "stream",
          "text": [
            "{\"query\": {\"agg\": 0, \"sel\": 0, \"conds\": [[3, 0, \"2008년 3월 17일\"]]}, \"table_id\": \"k22222\", \"nlu\": \"2008년 3월 17일의 캐나다 방영일에는 시즌 번호가 몇 개 있습니까?\", \"sql\": \"SELECT (시즌 번호) FROM k22222 WHERE 캐나다 방영일 = 2008년 3월 17일\"}\n",
            "\n",
            "1\n",
            "{\"query\": {\"agg\": 0, \"sel\": 0, \"conds\": [[2, 0, \"&quot;믿는 걸 멈추지 마&quot;\"]]}, \"table_id\": \"k22222\", \"nlu\": \"&quot;믿는 걸 멈추지 마&quot;라는 제목의 에피소드가 시즌 중 가장 높은 수를 기록한 에피소드는 무엇입니까?\", \"sql\": \"SELECT (시즌 번호) FROM k22222 WHERE 제목 = &quot;믿는 걸 멈추지 마&quot;\"}\n",
            "\n",
            "2\n",
            "{\"query\": {\"agg\": 0, \"sel\": 3, \"conds\": [[4, 0, \"2008년 8월 8일\"]]}, \"table_id\": \"k22222\", \"nlu\": \"미국 방영일이 2008년 8월 8일 일 떄의 캐나다 방영일이 무엇이었습니까?\", \"sql\": \"SELECT (캐나다 방영일) FROM k22222 WHERE 미국 방영일 = 2008년 8월 8일\"}\n",
            "\n",
            "3\n",
            "Loaded 3 records from ./data_and_model/flask_test_1019/results_ec7339f2-4e61-4214-a670-cc6917777209_.jsonl\n",
            "캐나다 방영일이 2008년 2월 11일인 경우 시리즈 번호는 무엇인가요?\n",
            "캐나다 방영일이 2008년 2월 11일인 경우 시리즈 번호는 무엇인가요?\n",
            "2008년 4월 4일의 미국 방영일의 생산 코드는 무엇인가?\n",
            "2008년 4월 4일의 미국 방영일의 생산 코드는 무엇인가?\n"
          ]
        },
        {
          "name": "stderr",
          "output_type": "stream",
          "text": [
            "100%|██████████| 1/1 [00:00<00:00, 5152.71it/s]\n"
          ]
        },
        {
          "name": "stdout",
          "output_type": "stream",
          "text": [
            "loading examples\n"
          ]
        },
        {
          "name": "stderr",
          "output_type": "stream",
          "text": [
            "100%|██████████| 5/5 [00:00<00:00, 98.79it/s]"
          ]
        },
        {
          "name": "stdout",
          "output_type": "stream",
          "text": [
            "BERT-type: kobert\n",
            "Batch_size = 32\n",
            "BERT parameters:\n",
            "learning rate: 1e-05\n",
            "Fine-tune BERT: False\n",
            "vocab size: 8002\n",
            "hidden_size: 768\n",
            "num_hidden_layer: 12\n",
            "num_attention_heads: 12\n",
            "hidden_act: gelu\n",
            "intermediate_size: 3072\n",
            "hidden_dropout_prob: 0.1\n",
            "attention_probs_dropout_prob: 0.1\n",
            "max_position_embeddings: 512\n",
            "type_vocab_size: 2\n",
            "initializer_range: 0.02\n"
          ]
        },
        {
          "name": "stderr",
          "output_type": "stream",
          "text": [
            "\n"
          ]
        },
        {
          "name": "stdout",
          "output_type": "stream",
          "text": [
            "using cached model\n",
            "using cached model\n",
            "using cached model\n",
            "Seq-to-SQL: the number of final BERT layers to be used: 2\n",
            "Seq-to-SQL: the size of hidden dimension = 100\n",
            "Seq-to-SQL: LSTM encoding layer size = 2\n",
            "Seq-to-SQL: dropout rate = 0.3\n",
            "Seq-to-SQL: learning rate = 0.0001\n"
          ]
        },
        {
          "name": "stderr",
          "output_type": "stream",
          "text": [
            "127.0.0.1 - - [18/Oct/2021 21:56:19] \"\u001b[37mPOST /predict HTTP/1.1\u001b[0m\" 200 -\n"
          ]
        },
        {
          "name": "stdout",
          "output_type": "stream",
          "text": [
            "{\"query\": {\"agg\": 0, \"sel\": 0, \"conds\": [[3, 0, \"2008년 3월 17일\"]]}, \"table_id\": \"k22222\", \"nlu\": \"2008년 3월 17일의 캐나다 방영일에는 시즌 번호가 몇 개 있습니까?\", \"sql\": \"SELECT (시즌 번호) FROM k22222 WHERE 캐나다 방영일 = 2008년 3월 17일\"}\n",
            "\n",
            "1\n",
            "{\"query\": {\"agg\": 0, \"sel\": 0, \"conds\": [[2, 0, \"&quot;믿는 걸 멈추지 마&quot;\"]]}, \"table_id\": \"k22222\", \"nlu\": \"&quot;믿는 걸 멈추지 마&quot;라는 제목의 에피소드가 시즌 중 가장 높은 수를 기록한 에피소드는 무엇입니까?\", \"sql\": \"SELECT (시즌 번호) FROM k22222 WHERE 제목 = &quot;믿는 걸 멈추지 마&quot;\"}\n",
            "\n",
            "2\n",
            "{\"query\": {\"agg\": 0, \"sel\": 3, \"conds\": [[4, 0, \"2008년 8월 8일\"]]}, \"table_id\": \"k22222\", \"nlu\": \"미국 방영일이 2008년 8월 8일 일 떄의 캐나다 방영일이 무엇이었습니까?\", \"sql\": \"SELECT (캐나다 방영일) FROM k22222 WHERE 미국 방영일 = 2008년 8월 8일\"}\n",
            "\n",
            "3\n",
            "{\"query\": {\"agg\": 0, \"sel\": 1, \"conds\": [[3, 0, \"2008년 2월 11일\"]]}, \"table_id\": \"k22222\", \"nlu\": \"캐나다 방영일이 2008년 2월 11일인 경우 시리즈 번호는 무엇인가요?\", \"sql\": \"SELECT (시리즈 번호) FROM k22222 WHERE 캐나다 방영일 = 2008년 2월 11일\"}\n",
            "\n",
            "4\n",
            "{\"query\": {\"agg\": 0, \"sel\": 5, \"conds\": [[4, 0, \"2008년 4월 4일\"]]}, \"table_id\": \"k22222\", \"nlu\": \"2008년 4월 4일의 미국 방영일의 생산 코드는 무엇인가?\", \"sql\": \"SELECT (생산 코드) FROM k22222 WHERE 미국 방영일 = 2008년 4월 4일\"}\n",
            "\n",
            "5\n",
            "Loaded 5 records from ./data_and_model/flask_test_1019/results_ec7339f2-4e61-4214-a670-cc6917777209_.jsonl\n"
          ]
        }
      ]
    }
  ]
}