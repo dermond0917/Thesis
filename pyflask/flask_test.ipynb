{
  "nbformat": 4,
  "nbformat_minor": 0,
  "metadata": {
    "accelerator": "GPU",
    "colab": {
      "name": "flask_test.ipynb",
      "provenance": [],
      "collapsed_sections": [
        "LvuAPvurS_nY"
      ],
      "mount_file_id": "1L4qsE98wAGh5nrJjWfiU7FC4uGWNjyr4",
      "authorship_tag": "ABX9TyMAgtZ3zTXzASD2EU+NASsw"
    },
    "kernelspec": {
      "display_name": "Python 3",
      "name": "python3"
    },
    "language_info": {
      "name": "python"
    }
  },
  "cells": [
    {
      "cell_type": "markdown",
      "metadata": {
        "id": "By5AlSa5TI7D"
      },
      "source": [
        "#Dependencies"
      ]
    },
    {
      "cell_type": "code",
      "metadata": {
        "colab": {
          "base_uri": "https://localhost:8080/"
        },
        "id": "opKHIGg2zMx-",
        "outputId": "d924b5a6-2ab3-4bc6-b638-fcb15c2119e7"
      },
      "source": [
        "%cd drive/MyDrive/sqlovaa/sqlova"
      ],
      "execution_count": null,
      "outputs": [
        {
          "name": "stdout",
          "output_type": "stream",
          "text": [
            "/content/drive/MyDrive/sqlovaa/sqlova\n"
          ]
        }
      ]
    },
    {
      "cell_type": "code",
      "metadata": {
        "colab": {
          "base_uri": "https://localhost:8080/"
        },
        "id": "20xOU9DryiYF",
        "outputId": "4542686b-260a-497d-b185-6d823ad69ab3"
      },
      "source": [
        "!pip install flask-ngrok"
      ],
      "execution_count": null,
      "outputs": [
        {
          "name": "stdout",
          "output_type": "stream",
          "text": [
            "Requirement already satisfied: flask-ngrok in /usr/local/lib/python3.7/dist-packages (0.0.25)\n",
            "Requirement already satisfied: requests in /usr/local/lib/python3.7/dist-packages (from flask-ngrok) (2.11.1)\n",
            "Requirement already satisfied: Flask>=0.8 in /usr/local/lib/python3.7/dist-packages (from flask-ngrok) (1.1.4)\n",
            "Requirement already satisfied: Werkzeug<2.0,>=0.15 in /usr/local/lib/python3.7/dist-packages (from Flask>=0.8->flask-ngrok) (1.0.1)\n",
            "Requirement already satisfied: Jinja2<3.0,>=2.10.1 in /usr/local/lib/python3.7/dist-packages (from Flask>=0.8->flask-ngrok) (2.11.3)\n",
            "Requirement already satisfied: click<8.0,>=5.1 in /usr/local/lib/python3.7/dist-packages (from Flask>=0.8->flask-ngrok) (7.1.2)\n",
            "Requirement already satisfied: itsdangerous<2.0,>=0.24 in /usr/local/lib/python3.7/dist-packages (from Flask>=0.8->flask-ngrok) (1.1.0)\n",
            "Requirement already satisfied: MarkupSafe>=0.23 in /usr/local/lib/python3.7/dist-packages (from Jinja2<3.0,>=2.10.1->Flask>=0.8->flask-ngrok) (2.0.1)\n"
          ]
        }
      ]
    },
    {
      "cell_type": "code",
      "metadata": {
        "colab": {
          "base_uri": "https://localhost:8080/"
        },
        "id": "B5ztpqELlhAi",
        "outputId": "3f1a9e02-4906-4649-911b-da48c3450d0c"
      },
      "source": [
        "!pip3 install sqlalchemy==1.3\n",
        "!pip3 install records==0.5.2\n",
        "!pip3 install babel matplotlib defusedxml tqdm\n",
        "!pip3 install ujson stanza\n",
        "\n",
        "import stanza\n",
        "# Download the Stanford CoreNLP package with Stanza's installation command\n",
        "# This'll take several minutes, depending on the network speed\n",
        "corenlp_dir = './corenlp'\n",
        "#stanza.install_corenlp(dir=corenlp_dir)\n",
        "\n",
        "# Set the CORENLP_HOME environment variable to point to the installation location\n",
        "import os\n",
        "os.environ[\"CORENLP_HOME\"] = corenlp_dir\n",
        "#!ls $CORENLP_HOME\n",
        "\n",
        "!pip3 install konlpy\n",
        "!pip3 install random"
      ],
      "execution_count": null,
      "outputs": [
        {
          "name": "stdout",
          "output_type": "stream",
          "text": [
            "Requirement already satisfied: sqlalchemy==1.3 in /usr/local/lib/python3.7/dist-packages (1.3.0)\n",
            "Requirement already satisfied: records==0.5.2 in /usr/local/lib/python3.7/dist-packages (0.5.2)\n",
            "Requirement already satisfied: tablib in /usr/local/lib/python3.7/dist-packages (from records==0.5.2) (3.0.0)\n",
            "Requirement already satisfied: SQLAlchemy in /usr/local/lib/python3.7/dist-packages (from records==0.5.2) (1.3.0)\n",
            "Requirement already satisfied: docopt in /usr/local/lib/python3.7/dist-packages (from records==0.5.2) (0.6.2)\n",
            "Requirement already satisfied: babel in /usr/local/lib/python3.7/dist-packages (2.9.1)\n",
            "Requirement already satisfied: matplotlib in /usr/local/lib/python3.7/dist-packages (3.2.2)\n",
            "Requirement already satisfied: defusedxml in /usr/local/lib/python3.7/dist-packages (0.7.1)\n",
            "Requirement already satisfied: tqdm in /usr/local/lib/python3.7/dist-packages (4.62.3)\n",
            "Requirement already satisfied: pytz>=2015.7 in /usr/local/lib/python3.7/dist-packages (from babel) (2018.9)\n",
            "Requirement already satisfied: pyparsing!=2.0.4,!=2.1.2,!=2.1.6,>=2.0.1 in /usr/local/lib/python3.7/dist-packages (from matplotlib) (2.4.7)\n",
            "Requirement already satisfied: python-dateutil>=2.1 in /usr/local/lib/python3.7/dist-packages (from matplotlib) (2.8.2)\n",
            "Requirement already satisfied: kiwisolver>=1.0.1 in /usr/local/lib/python3.7/dist-packages (from matplotlib) (1.3.2)\n",
            "Requirement already satisfied: numpy>=1.11 in /usr/local/lib/python3.7/dist-packages (from matplotlib) (1.19.5)\n",
            "Requirement already satisfied: cycler>=0.10 in /usr/local/lib/python3.7/dist-packages (from matplotlib) (0.10.0)\n",
            "Requirement already satisfied: six in /usr/local/lib/python3.7/dist-packages (from cycler>=0.10->matplotlib) (1.15.0)\n",
            "Requirement already satisfied: ujson in /usr/local/lib/python3.7/dist-packages (4.2.0)\n",
            "Requirement already satisfied: stanza in /usr/local/lib/python3.7/dist-packages (1.3.0)\n",
            "Requirement already satisfied: torch>=1.3.0 in /usr/local/lib/python3.7/dist-packages (from stanza) (1.9.0+cu111)\n",
            "Requirement already satisfied: emoji in /usr/local/lib/python3.7/dist-packages (from stanza) (1.6.1)\n",
            "Requirement already satisfied: tqdm in /usr/local/lib/python3.7/dist-packages (from stanza) (4.62.3)\n",
            "Requirement already satisfied: requests in /usr/local/lib/python3.7/dist-packages (from stanza) (2.11.1)\n",
            "Requirement already satisfied: protobuf in /usr/local/lib/python3.7/dist-packages (from stanza) (3.17.3)\n",
            "Requirement already satisfied: numpy in /usr/local/lib/python3.7/dist-packages (from stanza) (1.19.5)\n",
            "Requirement already satisfied: six in /usr/local/lib/python3.7/dist-packages (from stanza) (1.15.0)\n",
            "Requirement already satisfied: typing-extensions in /usr/local/lib/python3.7/dist-packages (from torch>=1.3.0->stanza) (3.7.4.3)\n",
            "Requirement already satisfied: konlpy in /usr/local/lib/python3.7/dist-packages (0.5.2)\n",
            "Requirement already satisfied: beautifulsoup4==4.6.0 in /usr/local/lib/python3.7/dist-packages (from konlpy) (4.6.0)\n",
            "Requirement already satisfied: lxml>=4.1.0 in /usr/local/lib/python3.7/dist-packages (from konlpy) (4.2.6)\n",
            "Requirement already satisfied: colorama in /usr/local/lib/python3.7/dist-packages (from konlpy) (0.4.4)\n",
            "Requirement already satisfied: tweepy>=3.7.0 in /usr/local/lib/python3.7/dist-packages (from konlpy) (3.10.0)\n",
            "Requirement already satisfied: numpy>=1.6 in /usr/local/lib/python3.7/dist-packages (from konlpy) (1.19.5)\n",
            "Requirement already satisfied: JPype1>=0.7.0 in /usr/local/lib/python3.7/dist-packages (from konlpy) (1.3.0)\n",
            "Requirement already satisfied: typing-extensions in /usr/local/lib/python3.7/dist-packages (from JPype1>=0.7.0->konlpy) (3.7.4.3)\n",
            "Requirement already satisfied: six>=1.10.0 in /usr/local/lib/python3.7/dist-packages (from tweepy>=3.7.0->konlpy) (1.15.0)\n",
            "Requirement already satisfied: requests[socks]>=2.11.1 in /usr/local/lib/python3.7/dist-packages (from tweepy>=3.7.0->konlpy) (2.11.1)\n",
            "Requirement already satisfied: requests-oauthlib>=0.7.0 in /usr/local/lib/python3.7/dist-packages (from tweepy>=3.7.0->konlpy) (1.3.0)\n",
            "Requirement already satisfied: oauthlib>=3.0.0 in /usr/local/lib/python3.7/dist-packages (from requests-oauthlib>=0.7.0->tweepy>=3.7.0->konlpy) (3.1.1)\n",
            "Requirement already satisfied: PySocks>=1.5.6 in /usr/local/lib/python3.7/dist-packages (from requests[socks]>=2.11.1->tweepy>=3.7.0->konlpy) (1.7.1)\n",
            "\u001b[31mERROR: Could not find a version that satisfies the requirement random (from versions: none)\u001b[0m\n",
            "\u001b[31mERROR: No matching distribution found for random\u001b[0m\n"
          ]
        }
      ]
    },
    {
      "cell_type": "code",
      "metadata": {
        "colab": {
          "base_uri": "https://localhost:8080/"
        },
        "id": "SfAKg60jTaOw",
        "outputId": "3845740d-c440-48c7-f65e-df7488c856d0"
      },
      "source": [
        "# KoBERT requirements\n",
        "\n",
        "!pip install mxnet>=1.4.0\n",
        "!pip install gluonnlp pandas tqdm\n",
        "!pip install sentencepiece\n",
        "!pip install transformers==3\n",
        "!pip install torch\n",
        "\n",
        "!pip install git+https://git@github.com/SKTBrain/KoBERT.git@master"
      ],
      "execution_count": null,
      "outputs": [
        {
          "name": "stdout",
          "output_type": "stream",
          "text": [
            "\u001b[31mERROR: pip's dependency resolver does not currently take into account all the packages that are installed. This behaviour is the source of the following dependency conflicts.\n",
            "pyrebase 3.0.27 requires requests==2.11.1, but you have requests 2.26.0 which is incompatible.\n",
            "google-colab 1.0.0 requires requests~=2.23.0, but you have requests 2.26.0 which is incompatible.\n",
            "datascience 0.10.6 requires folium==0.2.1, but you have folium 0.8.3 which is incompatible.\u001b[0m\n",
            "Requirement already satisfied: gluonnlp in /usr/local/lib/python3.7/dist-packages (0.10.0)\n",
            "Requirement already satisfied: pandas in /usr/local/lib/python3.7/dist-packages (1.1.5)\n",
            "Requirement already satisfied: tqdm in /usr/local/lib/python3.7/dist-packages (4.62.3)\n",
            "Requirement already satisfied: numpy>=1.16.0 in /usr/local/lib/python3.7/dist-packages (from gluonnlp) (1.19.5)\n",
            "Requirement already satisfied: packaging in /usr/local/lib/python3.7/dist-packages (from gluonnlp) (21.0)\n",
            "Requirement already satisfied: cython in /usr/local/lib/python3.7/dist-packages (from gluonnlp) (0.29.24)\n",
            "Requirement already satisfied: python-dateutil>=2.7.3 in /usr/local/lib/python3.7/dist-packages (from pandas) (2.8.2)\n",
            "Requirement already satisfied: pytz>=2017.2 in /usr/local/lib/python3.7/dist-packages (from pandas) (2018.9)\n",
            "Requirement already satisfied: six>=1.5 in /usr/local/lib/python3.7/dist-packages (from python-dateutil>=2.7.3->pandas) (1.15.0)\n",
            "Requirement already satisfied: pyparsing>=2.0.2 in /usr/local/lib/python3.7/dist-packages (from packaging->gluonnlp) (2.4.7)\n",
            "Requirement already satisfied: sentencepiece in /usr/local/lib/python3.7/dist-packages (0.1.96)\n",
            "Requirement already satisfied: transformers==3 in /usr/local/lib/python3.7/dist-packages (3.0.0)\n",
            "Requirement already satisfied: sacremoses in /usr/local/lib/python3.7/dist-packages (from transformers==3) (0.0.46)\n",
            "Requirement already satisfied: numpy in /usr/local/lib/python3.7/dist-packages (from transformers==3) (1.19.5)\n",
            "Requirement already satisfied: regex!=2019.12.17 in /usr/local/lib/python3.7/dist-packages (from transformers==3) (2019.12.20)\n",
            "Requirement already satisfied: tqdm>=4.27 in /usr/local/lib/python3.7/dist-packages (from transformers==3) (4.62.3)\n",
            "Requirement already satisfied: packaging in /usr/local/lib/python3.7/dist-packages (from transformers==3) (21.0)\n",
            "Requirement already satisfied: requests in /usr/local/lib/python3.7/dist-packages (from transformers==3) (2.26.0)\n",
            "Requirement already satisfied: tokenizers==0.8.0-rc4 in /usr/local/lib/python3.7/dist-packages (from transformers==3) (0.8.0rc4)\n",
            "Requirement already satisfied: sentencepiece in /usr/local/lib/python3.7/dist-packages (from transformers==3) (0.1.96)\n",
            "Requirement already satisfied: filelock in /usr/local/lib/python3.7/dist-packages (from transformers==3) (3.3.0)\n",
            "Requirement already satisfied: pyparsing>=2.0.2 in /usr/local/lib/python3.7/dist-packages (from packaging->transformers==3) (2.4.7)\n",
            "Requirement already satisfied: idna<4,>=2.5 in /usr/local/lib/python3.7/dist-packages (from requests->transformers==3) (2.10)\n",
            "Requirement already satisfied: charset-normalizer~=2.0.0 in /usr/local/lib/python3.7/dist-packages (from requests->transformers==3) (2.0.6)\n",
            "Requirement already satisfied: certifi>=2017.4.17 in /usr/local/lib/python3.7/dist-packages (from requests->transformers==3) (2021.5.30)\n",
            "Requirement already satisfied: urllib3<1.27,>=1.21.1 in /usr/local/lib/python3.7/dist-packages (from requests->transformers==3) (1.24.3)\n",
            "Requirement already satisfied: six in /usr/local/lib/python3.7/dist-packages (from sacremoses->transformers==3) (1.15.0)\n",
            "Requirement already satisfied: click in /usr/local/lib/python3.7/dist-packages (from sacremoses->transformers==3) (7.1.2)\n",
            "Requirement already satisfied: joblib in /usr/local/lib/python3.7/dist-packages (from sacremoses->transformers==3) (1.0.1)\n",
            "Requirement already satisfied: torch in /usr/local/lib/python3.7/dist-packages (1.9.0+cu111)\n",
            "Requirement already satisfied: typing-extensions in /usr/local/lib/python3.7/dist-packages (from torch) (3.7.4.3)\n",
            "Collecting git+https://****@github.com/SKTBrain/KoBERT.git@master\n",
            "  Cloning https://****@github.com/SKTBrain/KoBERT.git (to revision master) to /tmp/pip-req-build-2nu7k83v\n",
            "  Running command git clone -q 'https://****@github.com/SKTBrain/KoBERT.git' /tmp/pip-req-build-2nu7k83v\n"
          ]
        }
      ]
    },
    {
      "cell_type": "code",
      "metadata": {
        "colab": {
          "base_uri": "https://localhost:8080/",
          "height": 650
        },
        "id": "1d8o2FEPP3Mt",
        "outputId": "6ac291ab-87b4-46c5-89e5-d752cde7559d"
      },
      "source": [
        "!pip3 install pyrebase"
      ],
      "execution_count": null,
      "outputs": [
        {
          "name": "stdout",
          "output_type": "stream",
          "text": [
            "Requirement already satisfied: pyrebase in /usr/local/lib/python3.7/dist-packages (3.0.27)\n",
            "Requirement already satisfied: requests-toolbelt==0.7.0 in /usr/local/lib/python3.7/dist-packages (from pyrebase) (0.7.0)\n",
            "Requirement already satisfied: gcloud==0.17.0 in /usr/local/lib/python3.7/dist-packages (from pyrebase) (0.17.0)\n",
            "Collecting requests==2.11.1\n",
            "  Using cached requests-2.11.1-py2.py3-none-any.whl (514 kB)\n",
            "Requirement already satisfied: pycryptodome==3.4.3 in /usr/local/lib/python3.7/dist-packages (from pyrebase) (3.4.3)\n",
            "Requirement already satisfied: oauth2client==3.0.0 in /usr/local/lib/python3.7/dist-packages (from pyrebase) (3.0.0)\n",
            "Requirement already satisfied: python-jwt==2.0.1 in /usr/local/lib/python3.7/dist-packages (from pyrebase) (2.0.1)\n",
            "Requirement already satisfied: httplib2>=0.9.1 in /usr/local/lib/python3.7/dist-packages (from gcloud==0.17.0->pyrebase) (0.17.4)\n",
            "Requirement already satisfied: six in /usr/local/lib/python3.7/dist-packages (from gcloud==0.17.0->pyrebase) (1.15.0)\n",
            "Requirement already satisfied: googleapis-common-protos in /usr/local/lib/python3.7/dist-packages (from gcloud==0.17.0->pyrebase) (1.53.0)\n",
            "Requirement already satisfied: protobuf!=3.0.0.b2.post1,>=3.0.0b2 in /usr/local/lib/python3.7/dist-packages (from gcloud==0.17.0->pyrebase) (3.17.3)\n",
            "Requirement already satisfied: rsa>=3.1.4 in /usr/local/lib/python3.7/dist-packages (from oauth2client==3.0.0->pyrebase) (4.7.2)\n",
            "Requirement already satisfied: pyasn1>=0.1.7 in /usr/local/lib/python3.7/dist-packages (from oauth2client==3.0.0->pyrebase) (0.4.8)\n",
            "Requirement already satisfied: pyasn1-modules>=0.0.5 in /usr/local/lib/python3.7/dist-packages (from oauth2client==3.0.0->pyrebase) (0.2.8)\n",
            "Requirement already satisfied: jws>=0.1.3 in /usr/local/lib/python3.7/dist-packages (from python-jwt==2.0.1->pyrebase) (0.1.3)\n",
            "Installing collected packages: requests\n",
            "  Attempting uninstall: requests\n",
            "    Found existing installation: requests 2.26.0\n",
            "    Uninstalling requests-2.26.0:\n",
            "      Successfully uninstalled requests-2.26.0\n",
            "\u001b[31mERROR: pip's dependency resolver does not currently take into account all the packages that are installed. This behaviour is the source of the following dependency conflicts.\n",
            "tensorflow-datasets 4.0.1 requires requests>=2.19.0, but you have requests 2.11.1 which is incompatible.\n",
            "tensorboard 2.6.0 requires requests<3,>=2.21.0, but you have requests 2.11.1 which is incompatible.\n",
            "spacy 2.2.4 requires requests<3.0.0,>=2.13.0, but you have requests 2.11.1 which is incompatible.\n",
            "pandas-datareader 0.9.0 requires requests>=2.19.0, but you have requests 2.11.1 which is incompatible.\n",
            "mxnet 1.8.0.post0 requires requests<3,>=2.20.0, but you have requests 2.11.1 which is incompatible.\n",
            "google-colab 1.0.0 requires requests~=2.23.0, but you have requests 2.11.1 which is incompatible.\n",
            "google-api-core 1.26.3 requires requests<3.0.0dev,>=2.18.0, but you have requests 2.11.1 which is incompatible.\n",
            "datascience 0.10.6 requires folium==0.2.1, but you have folium 0.8.3 which is incompatible.\u001b[0m\n",
            "Successfully installed requests-2.11.1\n"
          ]
        },
        {
          "data": {
            "application/vnd.colab-display-data+json": {
              "pip_warning": {
                "packages": [
                  "requests"
                ]
              }
            }
          },
          "metadata": {},
          "output_type": "display_data"
        }
      ]
    },
    {
      "cell_type": "code",
      "metadata": {
        "colab": {
          "base_uri": "https://localhost:8080/"
        },
        "id": "nOv1mrllj0sD",
        "outputId": "e777ebde-a435-4633-c806-995166a2b8af"
      },
      "source": [
        "!pip3 install pyrebase"
      ],
      "execution_count": null,
      "outputs": [
        {
          "name": "stdout",
          "output_type": "stream",
          "text": [
            "Requirement already satisfied: pyrebase in /usr/local/lib/python3.7/dist-packages (3.0.27)\n",
            "Requirement already satisfied: requests-toolbelt==0.7.0 in /usr/local/lib/python3.7/dist-packages (from pyrebase) (0.7.0)\n",
            "Requirement already satisfied: gcloud==0.17.0 in /usr/local/lib/python3.7/dist-packages (from pyrebase) (0.17.0)\n",
            "Requirement already satisfied: pycryptodome==3.4.3 in /usr/local/lib/python3.7/dist-packages (from pyrebase) (3.4.3)\n",
            "Requirement already satisfied: oauth2client==3.0.0 in /usr/local/lib/python3.7/dist-packages (from pyrebase) (3.0.0)\n",
            "Requirement already satisfied: requests==2.11.1 in /usr/local/lib/python3.7/dist-packages (from pyrebase) (2.11.1)\n",
            "Requirement already satisfied: python-jwt==2.0.1 in /usr/local/lib/python3.7/dist-packages (from pyrebase) (2.0.1)\n",
            "Requirement already satisfied: protobuf!=3.0.0.b2.post1,>=3.0.0b2 in /usr/local/lib/python3.7/dist-packages (from gcloud==0.17.0->pyrebase) (3.17.3)\n",
            "Requirement already satisfied: httplib2>=0.9.1 in /usr/local/lib/python3.7/dist-packages (from gcloud==0.17.0->pyrebase) (0.17.4)\n",
            "Requirement already satisfied: six in /usr/local/lib/python3.7/dist-packages (from gcloud==0.17.0->pyrebase) (1.15.0)\n",
            "Requirement already satisfied: googleapis-common-protos in /usr/local/lib/python3.7/dist-packages (from gcloud==0.17.0->pyrebase) (1.53.0)\n",
            "Requirement already satisfied: rsa>=3.1.4 in /usr/local/lib/python3.7/dist-packages (from oauth2client==3.0.0->pyrebase) (4.7.2)\n",
            "Requirement already satisfied: pyasn1-modules>=0.0.5 in /usr/local/lib/python3.7/dist-packages (from oauth2client==3.0.0->pyrebase) (0.2.8)\n",
            "Requirement already satisfied: pyasn1>=0.1.7 in /usr/local/lib/python3.7/dist-packages (from oauth2client==3.0.0->pyrebase) (0.4.8)\n",
            "Requirement already satisfied: jws>=0.1.3 in /usr/local/lib/python3.7/dist-packages (from python-jwt==2.0.1->pyrebase) (0.1.3)\n"
          ]
        }
      ]
    },
    {
      "cell_type": "markdown",
      "metadata": {
        "id": "LvuAPvurS_nY"
      },
      "source": [
        "###mcS"
      ]
    },
    {
      "cell_type": "code",
      "metadata": {
        "colab": {
          "background_save": true
        },
        "id": "MMQm8Oc9Ubu9",
        "outputId": "120c02f5-2efa-4aca-c7fc-80077b0b20a3"
      },
      "source": [
        "\"\"import os, json\n",
        "\n",
        "from flask import Flask\n",
        "from flask_ngrok import run_with_ngrok\n",
        "from flask import Flask, request, render_template\n",
        "\n",
        "import pyrebase\n",
        "\n",
        "import add_question_ale\n",
        "from add_question_ale import question_to_json\n",
        "import add_csv_ale\n",
        "from add_csv_ale import csv_to_sqlite,csv_to_json\n",
        "import annotate_ws_okt\n",
        "from annotate_ws_okt import annotate_ale, count_lines\n",
        "from predict_ale import run_predict, args_ale\n",
        "#from predict_ale_kobert_imp import run_predict\n",
        "\n",
        "from tqdm import tqdm\n",
        "\n",
        "import jsonl\n",
        "\n",
        "import uuid\n",
        "\n",
        "config = {\n",
        "    \n",
        "}\n",
        "\n",
        "firebase = pyrebase.initialize_app(config)\n",
        "\n",
        "db = firebase.database()\n",
        "storage = firebase.storage()\n",
        "\n",
        "app = Flask(__name__)\n",
        "run_with_ngrok(app)   \n",
        "\n",
        "user_id=\"\"\n",
        "\n",
        "dsaved = './data_and_model/flask_test_1019'\n",
        "\n",
        "def annotate(din, dout, user_id, att):\n",
        "    fquestions = os.path.join(din, user_id) + '_'+att + '.jsonl'\n",
        "    ftable = os.path.join(din, user_id) + '.tables.jsonl'\n",
        "    ftok = os.path.join(dout, user_id) + '_'+att + '_tok.jsonl'\n",
        "    \n",
        "    with open(fquestions, encoding='utf-8') as fq, open(ftable, encoding='utf-8') as ft, open(ftok, 'wt', encoding='utf-8') as fo:\n",
        "            \n",
        "            tables = {}\n",
        "            for line in tqdm(ft, total=count_lines(ftable)):\n",
        "                d = json.loads(line)\n",
        "                tables[d['id']] = d\n",
        "            print('loading examples')\n",
        "            n_written = 0\n",
        "            cnt = -1\n",
        "            for line in tqdm(fq, total=count_lines(fquestions)):\n",
        "                cnt += 1\n",
        "                d = json.loads(line)\n",
        "                a = annotate_ale(d, tables[d['table_id']])\n",
        "                fo.write(json.dumps(a, ensure_ascii=False) + '\\n')\n",
        "                n_written += 1\n",
        "\n",
        "def print_predicted(dsaved, user_id,att):\n",
        "    origin_data = jsonl.load_jsonl(\"{}/results_{}_{}.jsonl\".format(dsaved,user_id,att))\n",
        "    nlu_sql={}\n",
        "    for d in origin_data:\n",
        "        nlu_sql[d['nlu']+'\\n']=d['sql']+'\\n'\n",
        "    return nlu_sql\n",
        "\n",
        "\n",
        "# route main page\n",
        "@app.route('/')\n",
        "def index():\n",
        "    return render_template(\"index3.html\")\n",
        "\n",
        "# data prediction\n",
        "@app.route('/add_data', methods=['POST'])\n",
        "#@app.route('/', methods=['POST'])\n",
        "def add_data():\n",
        "    if request.method =='POST':\n",
        "        #upload data\n",
        "        #user_id = request.form['userid']\n",
        "        #user_id = \"tts\"\n",
        "        user_id = uuid.uuid4()\n",
        "        #tid = request.form['tid']\n",
        "        json_file_name = '{}.jsonl'.format(user_id)\n",
        "\n",
        "        table = request.files['table']\n",
        "        table_name = table.filename\n",
        "        tid = table_name[:-4]\n",
        "        table.save(os.path.join(dsaved, table_name))\n",
        "        \n",
        "        \"\"\"query = request.form['query']\n",
        "        questions = query.split('\\n')\n",
        "\n",
        "        for q in questions:\n",
        "          print(q)\n",
        "          question_to_json(tid, q.strip('\\n\\r'), json_file_name, dsaved)\n",
        "\n",
        "        #storage.child(\"{}/{}\".format(user_id, json_file_name)).put(\"{}/{}\".format(dsaved, json_file_name))\n",
        "\n",
        "        #storage.child(\"tables/{}.csv\".format(tid)).put(table)\n",
        "        \"\"\"\n",
        "        csv_to_sqlite(tid, table_name, '{}.db'.format(user_id), dsaved)\n",
        "        csv_to_json(tid, table_name, '{}.tables.jsonl'.format(user_id), dsaved)\n",
        "        #storage.child(\"{}/{}.db\".format(user_id, user_id)).put(\"{}/{}.db\".format(dsaved, user_id))\n",
        "        #storage.child(\"{}/{}.tables.jsonl\".format(user_id, user_id)).put(\"{}/{}.tables.jsonl\".format(dsaved, user_id))\n",
        "        #os.remove(os.path.join(dsaved, table_name))\n",
        "\n",
        "        return render_template(\"query.html\", tid=tid, user_id = user_id, att = 0)\n",
        "    return render_template(\"index3.html\")\n",
        "\n",
        "@app.route('/predict', methods=['POST'])\n",
        "def predict():\n",
        "    if request.method =='POST':\n",
        "        #upload data\n",
        "        user_id = request.form['uid']\n",
        "        att = request.form['att']\n",
        "        tid = request.form['tid']\n",
        "        json_file_name = '{}_{}.jsonl'.format(user_id, att)\n",
        "\n",
        "        nlu = request.form['nlu']\n",
        "        questions = nlu.split('\\n')\n",
        "\n",
        "        for q in questions:\n",
        "          print(q)\n",
        "          question_to_json(tid, q.strip('\\n\\r'), json_file_name, dsaved)\n",
        "\n",
        "\n",
        "        annotate(dsaved, dsaved, user_id, att)\n",
        "        #storage.child(\"{}/{}_tok.jsonl\".format(user_id, user_id)).put(\"{}/{}_tok.jsonl\".format(dsaved, user_id))\n",
        "        #return render_template(\"index3.html\", predicted = predicted)\n",
        "        \n",
        "        run_predict('../result_files/okt/mcS/model_best.pt', '../result_files/okt/mcS/model_bert_best.pt', './data_and_model', dsaved, user_id, att,'./data_and_model/flask_test_1019/')\n",
        "        result_dict = print_predicted(dsaved, user_id, att)\n",
        "\n",
        "        return render_template(\"query.html\", predicted=result_dict.items(), tid=tid, user_id = user_id)\n",
        "    return render_template(\"index3.html\")\n",
        "\n",
        "if __name__=='__main__':\n",
        "\tapp.run()\"\""
      ],
      "execution_count": null,
      "outputs": [
        {
          "name": "stdout",
          "output_type": "stream",
          "text": [
            " * Serving Flask app \"__main__\" (lazy loading)\n",
            " * Environment: production\n",
            "\u001b[31m   WARNING: This is a development server. Do not use it in a production deployment.\u001b[0m\n",
            "\u001b[2m   Use a production WSGI server instead.\u001b[0m\n",
            " * Debug mode: off\n"
          ]
        },
        {
          "name": "stderr",
          "output_type": "stream",
          "text": [
            " * Running on http://127.0.0.1:5000/ (Press CTRL+C to quit)\n"
          ]
        },
        {
          "name": "stdout",
          "output_type": "stream",
          "text": [
            " * Running on http://0f50-35-221-196-106.ngrok.io\n",
            " * Traffic stats available on http://127.0.0.1:4040\n"
          ]
        },
        {
          "name": "stderr",
          "output_type": "stream",
          "text": [
            "127.0.0.1 - - [18/Oct/2021 20:36:51] \"\u001b[37mGET / HTTP/1.1\u001b[0m\" 200 -\n",
            "127.0.0.1 - - [18/Oct/2021 20:36:52] \"\u001b[37mGET /static/css/style0.css HTTP/1.1\u001b[0m\" 200 -\n",
            "127.0.0.1 - - [18/Oct/2021 20:36:52] \"\u001b[37mGET /static/img/dog.png HTTP/1.1\u001b[0m\" 200 -\n",
            "127.0.0.1 - - [18/Oct/2021 20:36:52] \"\u001b[37mGET /static/js/TableCsv.js HTTP/1.1\u001b[0m\" 200 -\n",
            "127.0.0.1 - - [18/Oct/2021 20:36:53] \"\u001b[33mGET /favicon.ico HTTP/1.1\u001b[0m\" 404 -\n",
            "127.0.0.1 - - [18/Oct/2021 20:36:59] \"\u001b[37mPOST /add_data HTTP/1.1\u001b[0m\" 200 -\n",
            "127.0.0.1 - - [18/Oct/2021 20:37:00] \"\u001b[37mGET /static/css/style1.css HTTP/1.1\u001b[0m\" 200 -\n"
          ]
        },
        {
          "name": "stdout",
          "output_type": "stream",
          "text": [
            "캐나다 방영일이 2008년 2월 11일인 경우 시리즈 번호는 무엇인가요?\n",
            "캐나다 방영일이 2008년 2월 11일인 경우 시리즈 번호는 무엇인가요?\n"
          ]
        },
        {
          "name": "stderr",
          "output_type": "stream",
          "text": [
            "100%|██████████| 1/1 [00:00<00:00, 3744.91it/s]\n"
          ]
        },
        {
          "name": "stdout",
          "output_type": "stream",
          "text": [
            "loading examples\n"
          ]
        },
        {
          "name": "stderr",
          "output_type": "stream",
          "text": [
            "100%|██████████| 1/1 [00:00<00:00, 24.14it/s]\n",
            "[2021-10-18 20:37:05,001] ERROR in app: Exception on /predict [POST]\n",
            "Traceback (most recent call last):\n",
            "  File \"/usr/local/lib/python3.7/dist-packages/flask/app.py\", line 2447, in wsgi_app\n",
            "    response = self.full_dispatch_request()\n",
            "  File \"/usr/local/lib/python3.7/dist-packages/flask/app.py\", line 1952, in full_dispatch_request\n",
            "    rv = self.handle_user_exception(e)\n",
            "  File \"/usr/local/lib/python3.7/dist-packages/flask/app.py\", line 1821, in handle_user_exception\n",
            "    reraise(exc_type, exc_value, tb)\n",
            "  File \"/usr/local/lib/python3.7/dist-packages/flask/_compat.py\", line 39, in reraise\n",
            "    raise value\n",
            "  File \"/usr/local/lib/python3.7/dist-packages/flask/app.py\", line 1950, in full_dispatch_request\n",
            "    rv = self.dispatch_request()\n",
            "  File \"/usr/local/lib/python3.7/dist-packages/flask/app.py\", line 1936, in dispatch_request\n",
            "    return self.view_functions[rule.endpoint](**req.view_args)\n",
            "  File \"<ipython-input-8-2b611b9bc12e>\", line 165, in predict\n",
            "    run_predict('../result_files/okt/mcS/model_best.pt', '../result_files/okt/mcS/model_bert_best.pt', './data_and_model', dsaved, user_id, att,'./data_and_model/flask_test_1019/')\n",
            "TypeError: run_predict() takes 6 positional arguments but 7 were given\n",
            "127.0.0.1 - - [18/Oct/2021 20:37:05] \"\u001b[35m\u001b[1mPOST /predict HTTP/1.1\u001b[0m\" 500 -\n"
          ]
        }
      ]
    },
    {
      "cell_type": "markdown",
      "metadata": {
        "id": "Sjc7oKcVS63y"
      },
      "source": [
        "###KoBERT"
      ]
    },
    {
      "cell_type": "code",
      "metadata": {
        "colab": {
          "base_uri": "https://localhost:8080/"
        },
        "id": "GAycGYJZSoQA",
        "outputId": "129bb8ce-69fd-4c41-c487-35101d90d7aa"
      },
      "source": [
        "import os, json\n",
        "\n",
        "from flask import Flask\n",
        "from flask_ngrok import run_with_ngrok\n",
        "from flask import Flask, request, render_template\n",
        "\n",
        "import pyrebase\n",
        "\n",
        "import add_question_ale\n",
        "from add_question_ale import question_to_json\n",
        "import add_csv_ale\n",
        "from add_csv_ale import csv_to_sqlite,csv_to_json\n",
        "import annotate_ws_okt\n",
        "from annotate_ws_okt import annotate_ale, count_lines\n",
        "from predict_ale_kobert_imp import run_predict, args_ale\n",
        "\n",
        "from tqdm import tqdm\n",
        "\n",
        "import jsonl\n",
        "\n",
        "import uuid\n",
        "\n",
        "config = {\n",
        "    \n",
        "}\n",
        "\n",
        "firebase = pyrebase.initialize_app(config)\n",
        "\n",
        "db = firebase.database()\n",
        "storage = firebase.storage()\n",
        "\n",
        "app = Flask(__name__)\n",
        "run_with_ngrok(app)   \n",
        "\n",
        "user_id=\"\"\n",
        "\n",
        "dsaved = './data_and_model/flask_test_1019'\n",
        "\n",
        "def annotate(din, dout, user_id, att):\n",
        "    fquestions = os.path.join(din, user_id) + '_'+att + '.jsonl'\n",
        "    ftable = os.path.join(din, user_id) + '.tables.jsonl'\n",
        "    ftok = os.path.join(dout, user_id) + '_'+att + '_tok.jsonl'\n",
        "    \n",
        "    with open(fquestions, encoding='utf-8') as fq, open(ftable, encoding='utf-8') as ft, open(ftok, 'wt', encoding='utf-8') as fo:\n",
        "            \n",
        "            tables = {}\n",
        "            for line in tqdm(ft, total=count_lines(ftable)):\n",
        "                d = json.loads(line)\n",
        "                tables[d['id']] = d\n",
        "            print('loading examples')\n",
        "            n_written = 0\n",
        "            cnt = -1\n",
        "            for line in tqdm(fq, total=count_lines(fquestions)):\n",
        "                cnt += 1\n",
        "                d = json.loads(line)\n",
        "                a = annotate_ale(d, tables[d['table_id']])\n",
        "                fo.write(json.dumps(a, ensure_ascii=False) + '\\n')\n",
        "                n_written += 1\n",
        "\n",
        "def print_predicted(dsaved, user_id,att):\n",
        "    origin_data = jsonl.load_jsonl(\"{}/results_{}_{}.jsonl\".format(dsaved,user_id,att))\n",
        "    nlu_sql={}\n",
        "    for d in origin_data:\n",
        "        nlu_sql[d['nlu']+'\\n']=d['sql']+'\\n'\n",
        "    return nlu_sql\n",
        "\n",
        "\n",
        "# route main page\n",
        "@app.route('/')\n",
        "def index():\n",
        "    return render_template(\"index3.html\")\n",
        "\n",
        "# data prediction\n",
        "@app.route('/add_data', methods=['POST'])\n",
        "#@app.route('/', methods=['POST'])\n",
        "def add_data():\n",
        "    if request.method =='POST':\n",
        "        #upload data\n",
        "        #user_id = request.form['userid']\n",
        "        #user_id = \"tts\"\n",
        "        user_id = uuid.uuid4()\n",
        "        #tid = request.form['tid']\n",
        "        json_file_name = '{}.jsonl'.format(user_id)\n",
        "\n",
        "        table = request.files['table']\n",
        "        table_name = table.filename\n",
        "        tid = table_name[:-4]\n",
        "        table.save(os.path.join(dsaved, table_name))\n",
        "        \n",
        "        \"\"\"query = request.form['query']\n",
        "        questions = query.split('\\n')\n",
        "\n",
        "        for q in questions:\n",
        "          print(q)\n",
        "          question_to_json(tid, q.strip('\\n\\r'), json_file_name, dsaved)\n",
        "\n",
        "        #storage.child(\"{}/{}\".format(user_id, json_file_name)).put(\"{}/{}\".format(dsaved, json_file_name))\n",
        "\n",
        "        #storage.child(\"tables/{}.csv\".format(tid)).put(table)\n",
        "        \"\"\"\n",
        "        csv_to_sqlite(tid, table_name, '{}.db'.format(user_id), dsaved)\n",
        "        csv_to_json(tid, table_name, '{}.tables.jsonl'.format(user_id), dsaved)\n",
        "        #storage.child(\"{}/{}.db\".format(user_id, user_id)).put(\"{}/{}.db\".format(dsaved, user_id))\n",
        "        #storage.child(\"{}/{}.tables.jsonl\".format(user_id, user_id)).put(\"{}/{}.tables.jsonl\".format(dsaved, user_id))\n",
        "        #os.remove(os.path.join(dsaved, table_name))\n",
        "\n",
        "        return render_template(\"query.html\", tid=tid, user_id = user_id, att = 0)\n",
        "    return render_template(\"index3.html\")\n",
        "\n",
        "@app.route('/predict', methods=['POST'])\n",
        "def predict():\n",
        "    if request.method =='POST':\n",
        "        #upload data\n",
        "        user_id = request.form['uid']\n",
        "        att = request.form['att']\n",
        "        tid = request.form['tid']\n",
        "        json_file_name = '{}_{}.jsonl'.format(user_id, att)\n",
        "\n",
        "        nlu = request.form['nlu']\n",
        "        questions = nlu.split('\\n')\n",
        "\n",
        "        for q in questions:\n",
        "          print(q)\n",
        "          question_to_json(tid, q.strip('\\n\\r'), json_file_name, dsaved)\n",
        "\n",
        "\n",
        "        annotate(dsaved, dsaved, user_id, att)\n",
        "        #storage.child(\"{}/{}_tok.jsonl\".format(user_id, user_id)).put(\"{}/{}_tok.jsonl\".format(dsaved, user_id))\n",
        "        #return render_template(\"index3.html\", predicted = predicted)\n",
        "        \n",
        "        #run_predict('../result_files/okt/mcS/model_best.pt', '../result_files/okt/mcS/model_bert_best.pt', './data_and_model', dsaved, user_id, att,'./data_and_model/flask_test_1019/')\n",
        "        run_predict('../result_files/okt/KoBERT/model_best.pt', '../result_files/okt/KoBERT/model_bert_best.pt', './data_and_model', dsaved, user_id, att,'./data_and_model/flask_test_1019/')\n",
        "        result_dict = print_predicted(dsaved, user_id, att)\n",
        "\n",
        "        return render_template(\"query.html\", predicted=result_dict.items(), tid=tid, user_id = user_id)\n",
        "    return render_template(\"index3.html\")\n",
        "\n",
        "if __name__=='__main__':\n",
        "\tapp.run()"
      ],
      "execution_count": 8,
      "outputs": [
        {
          "metadata": {
            "tags": null
          },
          "name": "stdout",
          "output_type": "stream",
          "text": [
            " * Serving Flask app \"__main__\" (lazy loading)\n",
            " * Environment: production\n",
            "\u001b[31m   WARNING: This is a development server. Do not use it in a production deployment.\u001b[0m\n",
            "\u001b[2m   Use a production WSGI server instead.\u001b[0m\n",
            " * Debug mode: off\n"
          ]
        },
        {
          "metadata": {
            "tags": null
          },
          "name": "stderr",
          "output_type": "stream",
          "text": [
            " * Running on http://127.0.0.1:5000/ (Press CTRL+C to quit)\n"
          ]
        },
        {
          "metadata": {
            "tags": null
          },
          "name": "stdout",
          "output_type": "stream",
          "text": [
            " * Running on http://a875-35-190-140-197.ngrok.io\n",
            " * Traffic stats available on http://127.0.0.1:4040\n"
          ]
        },
        {
          "metadata": {
            "tags": null
          },
          "name": "stderr",
          "output_type": "stream",
          "text": [
            "127.0.0.1 - - [18/Oct/2021 21:55:08] \"\u001b[37mGET / HTTP/1.1\u001b[0m\" 200 -\n",
            "127.0.0.1 - - [18/Oct/2021 21:55:08] \"\u001b[37mGET /static/css/style0.css HTTP/1.1\u001b[0m\" 200 -\n",
            "127.0.0.1 - - [18/Oct/2021 21:55:08] \"\u001b[37mGET /static/img/dog.png HTTP/1.1\u001b[0m\" 200 -\n",
            "127.0.0.1 - - [18/Oct/2021 21:55:08] \"\u001b[37mGET /static/js/TableCsv.js HTTP/1.1\u001b[0m\" 200 -\n",
            "127.0.0.1 - - [18/Oct/2021 21:55:08] \"\u001b[33mGET /favicon.ico HTTP/1.1\u001b[0m\" 404 -\n",
            "127.0.0.1 - - [18/Oct/2021 21:55:16] \"\u001b[37mPOST /add_data HTTP/1.1\u001b[0m\" 200 -\n",
            "127.0.0.1 - - [18/Oct/2021 21:55:16] \"\u001b[37mGET /static/css/style1.css HTTP/1.1\u001b[0m\" 200 -\n"
          ]
        },
        {
          "metadata": {
            "tags": null
          },
          "name": "stdout",
          "output_type": "stream",
          "text": [
            "2008년 4월 4일 미국에서 방영된 에피소드의 이름은 무엇이었습니까?\n",
            "2008년 4월 4일 미국에서 방영된 에피소드의 이름은 무엇이었습니까?\n"
          ]
        },
        {
          "metadata": {
            "tags": null
          },
          "name": "stderr",
          "output_type": "stream",
          "text": [
            "100%|██████████| 1/1 [00:00<00:00, 3916.25it/s]\n"
          ]
        },
        {
          "metadata": {
            "tags": null
          },
          "name": "stdout",
          "output_type": "stream",
          "text": [
            "loading examples\n"
          ]
        },
        {
          "metadata": {
            "tags": null
          },
          "name": "stderr",
          "output_type": "stream",
          "text": [
            "100%|██████████| 1/1 [00:00<00:00, 22.52it/s]"
          ]
        },
        {
          "metadata": {
            "tags": null
          },
          "name": "stdout",
          "output_type": "stream",
          "text": [
            "BERT-type: kobert\n",
            "Batch_size = 32\n",
            "BERT parameters:\n",
            "learning rate: 1e-05\n",
            "Fine-tune BERT: False\n",
            "vocab size: 8002\n",
            "hidden_size: 768\n",
            "num_hidden_layer: 12\n",
            "num_attention_heads: 12\n",
            "hidden_act: gelu\n",
            "intermediate_size: 3072\n",
            "hidden_dropout_prob: 0.1\n",
            "attention_probs_dropout_prob: 0.1\n",
            "max_position_embeddings: 512\n",
            "type_vocab_size: 2\n",
            "initializer_range: 0.02\n"
          ]
        },
        {
          "metadata": {
            "tags": null
          },
          "name": "stderr",
          "output_type": "stream",
          "text": [
            "\n"
          ]
        },
        {
          "metadata": {
            "tags": null
          },
          "name": "stdout",
          "output_type": "stream",
          "text": [
            "using cached model\n",
            "using cached model\n",
            "using cached model\n",
            "Seq-to-SQL: the number of final BERT layers to be used: 2\n",
            "Seq-to-SQL: the size of hidden dimension = 100\n",
            "Seq-to-SQL: LSTM encoding layer size = 2\n",
            "Seq-to-SQL: dropout rate = 0.3\n",
            "Seq-to-SQL: learning rate = 0.0001\n"
          ]
        },
        {
          "metadata": {
            "tags": null
          },
          "name": "stderr",
          "output_type": "stream",
          "text": [
            "127.0.0.1 - - [18/Oct/2021 21:55:33] \"\u001b[37mPOST /predict HTTP/1.1\u001b[0m\" 200 -\n"
          ]
        },
        {
          "metadata": {
            "tags": null
          },
          "name": "stdout",
          "output_type": "stream",
          "text": [
            "{\"query\": {\"agg\": 0, \"sel\": 4, \"conds\": [[4, 0, \"2008년 4월 4일\"]]}, \"table_id\": \"k22222\", \"nlu\": \"2008년 4월 4일 미국에서 방영된 에피소드의 이름은 무엇이었습니까?\", \"sql\": \"SELECT (미국 방영일) FROM k22222 WHERE 미국 방영일 = 2008년 4월 4일\"}\n",
            "\n",
            "1\n",
            "Loaded 1 records from ./data_and_model/flask_test_1019/results_ec7339f2-4e61-4214-a670-cc6917777209_0.jsonl\n",
            "2008년 3월 17일의 캐나다 방영일에는 시즌 번호가 몇 개 있습니까?\n",
            "2008년 3월 17일의 캐나다 방영일에는 시즌 번호가 몇 개 있습니까?\n"
          ]
        },
        {
          "metadata": {
            "tags": null
          },
          "name": "stderr",
          "output_type": "stream",
          "text": [
            "100%|██████████| 1/1 [00:00<00:00, 5216.80it/s]\n"
          ]
        },
        {
          "metadata": {
            "tags": null
          },
          "name": "stdout",
          "output_type": "stream",
          "text": [
            "loading examples\n"
          ]
        },
        {
          "metadata": {
            "tags": null
          },
          "name": "stderr",
          "output_type": "stream",
          "text": [
            "100%|██████████| 1/1 [00:00<00:00, 85.19it/s]"
          ]
        },
        {
          "metadata": {
            "tags": null
          },
          "name": "stdout",
          "output_type": "stream",
          "text": [
            "BERT-type: kobert\n",
            "Batch_size = 32\n",
            "BERT parameters:\n",
            "learning rate: 1e-05\n",
            "Fine-tune BERT: False\n",
            "vocab size: 8002\n",
            "hidden_size: 768\n",
            "num_hidden_layer: 12\n",
            "num_attention_heads: 12\n",
            "hidden_act: gelu\n",
            "intermediate_size: 3072\n",
            "hidden_dropout_prob: 0.1\n",
            "attention_probs_dropout_prob: 0.1\n",
            "max_position_embeddings: 512\n",
            "type_vocab_size: 2\n",
            "initializer_range: 0.02\n"
          ]
        },
        {
          "metadata": {
            "tags": null
          },
          "name": "stderr",
          "output_type": "stream",
          "text": [
            "\n"
          ]
        },
        {
          "metadata": {
            "tags": null
          },
          "name": "stdout",
          "output_type": "stream",
          "text": [
            "using cached model\n",
            "using cached model\n",
            "using cached model\n",
            "Seq-to-SQL: the number of final BERT layers to be used: 2\n",
            "Seq-to-SQL: the size of hidden dimension = 100\n",
            "Seq-to-SQL: LSTM encoding layer size = 2\n",
            "Seq-to-SQL: dropout rate = 0.3\n",
            "Seq-to-SQL: learning rate = 0.0001\n"
          ]
        },
        {
          "metadata": {
            "tags": null
          },
          "name": "stderr",
          "output_type": "stream",
          "text": [
            "127.0.0.1 - - [18/Oct/2021 21:55:46] \"\u001b[37mPOST /predict HTTP/1.1\u001b[0m\" 200 -\n"
          ]
        },
        {
          "metadata": {
            "tags": null
          },
          "name": "stdout",
          "output_type": "stream",
          "text": [
            "{\"query\": {\"agg\": 0, \"sel\": 0, \"conds\": [[3, 0, \"2008년 3월 17일\"]]}, \"table_id\": \"k22222\", \"nlu\": \"2008년 3월 17일의 캐나다 방영일에는 시즌 번호가 몇 개 있습니까?\", \"sql\": \"SELECT (시즌 번호) FROM k22222 WHERE 캐나다 방영일 = 2008년 3월 17일\"}\n",
            "\n",
            "1\n",
            "Loaded 1 records from ./data_and_model/flask_test_1019/results_ec7339f2-4e61-4214-a670-cc6917777209_.jsonl\n",
            "&quot;믿는 걸 멈추지 마&quot;라는 제목의 에피소드가 시즌 중 가장 높은 수를 기록한 에피소드는 무엇입니까?\n",
            "&quot;믿는 걸 멈추지 마&quot;라는 제목의 에피소드가 시즌 중 가장 높은 수를 기록한 에피소드는 무엇입니까?\n",
            "미국 방영일이 2008년 8월 8일 일 떄의 캐나다 방영일이 무엇이었습니까?\n",
            "미국 방영일이 2008년 8월 8일 일 떄의 캐나다 방영일이 무엇이었습니까?\n"
          ]
        },
        {
          "metadata": {
            "tags": null
          },
          "name": "stderr",
          "output_type": "stream",
          "text": [
            "100%|██████████| 1/1 [00:00<00:00, 4563.99it/s]\n"
          ]
        },
        {
          "metadata": {
            "tags": null
          },
          "name": "stdout",
          "output_type": "stream",
          "text": [
            "loading examples\n"
          ]
        },
        {
          "metadata": {
            "tags": null
          },
          "name": "stderr",
          "output_type": "stream",
          "text": [
            "100%|██████████| 3/3 [00:00<00:00, 88.50it/s]"
          ]
        },
        {
          "metadata": {
            "tags": null
          },
          "name": "stdout",
          "output_type": "stream",
          "text": [
            "BERT-type: kobert\n",
            "Batch_size = 32\n",
            "BERT parameters:\n",
            "learning rate: 1e-05\n",
            "Fine-tune BERT: False\n",
            "vocab size: 8002\n",
            "hidden_size: 768\n",
            "num_hidden_layer: 12\n",
            "num_attention_heads: 12\n",
            "hidden_act: gelu\n",
            "intermediate_size: 3072\n",
            "hidden_dropout_prob: 0.1\n",
            "attention_probs_dropout_prob: 0.1\n",
            "max_position_embeddings: 512\n",
            "type_vocab_size: 2\n",
            "initializer_range: 0.02\n"
          ]
        },
        {
          "metadata": {
            "tags": null
          },
          "name": "stderr",
          "output_type": "stream",
          "text": [
            "\n"
          ]
        },
        {
          "metadata": {
            "tags": null
          },
          "name": "stdout",
          "output_type": "stream",
          "text": [
            "using cached model\n",
            "using cached model\n",
            "using cached model\n",
            "Seq-to-SQL: the number of final BERT layers to be used: 2\n",
            "Seq-to-SQL: the size of hidden dimension = 100\n",
            "Seq-to-SQL: LSTM encoding layer size = 2\n",
            "Seq-to-SQL: dropout rate = 0.3\n",
            "Seq-to-SQL: learning rate = 0.0001\n"
          ]
        },
        {
          "metadata": {
            "tags": null
          },
          "name": "stderr",
          "output_type": "stream",
          "text": [
            "127.0.0.1 - - [18/Oct/2021 21:56:04] \"\u001b[37mPOST /predict HTTP/1.1\u001b[0m\" 200 -\n"
          ]
        },
        {
          "metadata": {
            "tags": null
          },
          "name": "stdout",
          "output_type": "stream",
          "text": [
            "{\"query\": {\"agg\": 0, \"sel\": 0, \"conds\": [[3, 0, \"2008년 3월 17일\"]]}, \"table_id\": \"k22222\", \"nlu\": \"2008년 3월 17일의 캐나다 방영일에는 시즌 번호가 몇 개 있습니까?\", \"sql\": \"SELECT (시즌 번호) FROM k22222 WHERE 캐나다 방영일 = 2008년 3월 17일\"}\n",
            "\n",
            "1\n",
            "{\"query\": {\"agg\": 0, \"sel\": 0, \"conds\": [[2, 0, \"&quot;믿는 걸 멈추지 마&quot;\"]]}, \"table_id\": \"k22222\", \"nlu\": \"&quot;믿는 걸 멈추지 마&quot;라는 제목의 에피소드가 시즌 중 가장 높은 수를 기록한 에피소드는 무엇입니까?\", \"sql\": \"SELECT (시즌 번호) FROM k22222 WHERE 제목 = &quot;믿는 걸 멈추지 마&quot;\"}\n",
            "\n",
            "2\n",
            "{\"query\": {\"agg\": 0, \"sel\": 3, \"conds\": [[4, 0, \"2008년 8월 8일\"]]}, \"table_id\": \"k22222\", \"nlu\": \"미국 방영일이 2008년 8월 8일 일 떄의 캐나다 방영일이 무엇이었습니까?\", \"sql\": \"SELECT (캐나다 방영일) FROM k22222 WHERE 미국 방영일 = 2008년 8월 8일\"}\n",
            "\n",
            "3\n",
            "Loaded 3 records from ./data_and_model/flask_test_1019/results_ec7339f2-4e61-4214-a670-cc6917777209_.jsonl\n",
            "캐나다 방영일이 2008년 2월 11일인 경우 시리즈 번호는 무엇인가요?\n",
            "캐나다 방영일이 2008년 2월 11일인 경우 시리즈 번호는 무엇인가요?\n",
            "2008년 4월 4일의 미국 방영일의 생산 코드는 무엇인가?\n",
            "2008년 4월 4일의 미국 방영일의 생산 코드는 무엇인가?\n"
          ]
        },
        {
          "metadata": {
            "tags": null
          },
          "name": "stderr",
          "output_type": "stream",
          "text": [
            "100%|██████████| 1/1 [00:00<00:00, 5152.71it/s]\n"
          ]
        },
        {
          "metadata": {
            "tags": null
          },
          "name": "stdout",
          "output_type": "stream",
          "text": [
            "loading examples\n"
          ]
        },
        {
          "metadata": {
            "tags": null
          },
          "name": "stderr",
          "output_type": "stream",
          "text": [
            "100%|██████████| 5/5 [00:00<00:00, 98.79it/s]"
          ]
        },
        {
          "metadata": {
            "tags": null
          },
          "name": "stdout",
          "output_type": "stream",
          "text": [
            "BERT-type: kobert\n",
            "Batch_size = 32\n",
            "BERT parameters:\n",
            "learning rate: 1e-05\n",
            "Fine-tune BERT: False\n",
            "vocab size: 8002\n",
            "hidden_size: 768\n",
            "num_hidden_layer: 12\n",
            "num_attention_heads: 12\n",
            "hidden_act: gelu\n",
            "intermediate_size: 3072\n",
            "hidden_dropout_prob: 0.1\n",
            "attention_probs_dropout_prob: 0.1\n",
            "max_position_embeddings: 512\n",
            "type_vocab_size: 2\n",
            "initializer_range: 0.02\n"
          ]
        },
        {
          "metadata": {
            "tags": null
          },
          "name": "stderr",
          "output_type": "stream",
          "text": [
            "\n"
          ]
        },
        {
          "metadata": {
            "tags": null
          },
          "name": "stdout",
          "output_type": "stream",
          "text": [
            "using cached model\n",
            "using cached model\n",
            "using cached model\n",
            "Seq-to-SQL: the number of final BERT layers to be used: 2\n",
            "Seq-to-SQL: the size of hidden dimension = 100\n",
            "Seq-to-SQL: LSTM encoding layer size = 2\n",
            "Seq-to-SQL: dropout rate = 0.3\n",
            "Seq-to-SQL: learning rate = 0.0001\n"
          ]
        },
        {
          "metadata": {
            "tags": null
          },
          "name": "stderr",
          "output_type": "stream",
          "text": [
            "127.0.0.1 - - [18/Oct/2021 21:56:19] \"\u001b[37mPOST /predict HTTP/1.1\u001b[0m\" 200 -\n"
          ]
        },
        {
          "metadata": {
            "tags": null
          },
          "name": "stdout",
          "output_type": "stream",
          "text": [
            "{\"query\": {\"agg\": 0, \"sel\": 0, \"conds\": [[3, 0, \"2008년 3월 17일\"]]}, \"table_id\": \"k22222\", \"nlu\": \"2008년 3월 17일의 캐나다 방영일에는 시즌 번호가 몇 개 있습니까?\", \"sql\": \"SELECT (시즌 번호) FROM k22222 WHERE 캐나다 방영일 = 2008년 3월 17일\"}\n",
            "\n",
            "1\n",
            "{\"query\": {\"agg\": 0, \"sel\": 0, \"conds\": [[2, 0, \"&quot;믿는 걸 멈추지 마&quot;\"]]}, \"table_id\": \"k22222\", \"nlu\": \"&quot;믿는 걸 멈추지 마&quot;라는 제목의 에피소드가 시즌 중 가장 높은 수를 기록한 에피소드는 무엇입니까?\", \"sql\": \"SELECT (시즌 번호) FROM k22222 WHERE 제목 = &quot;믿는 걸 멈추지 마&quot;\"}\n",
            "\n",
            "2\n",
            "{\"query\": {\"agg\": 0, \"sel\": 3, \"conds\": [[4, 0, \"2008년 8월 8일\"]]}, \"table_id\": \"k22222\", \"nlu\": \"미국 방영일이 2008년 8월 8일 일 떄의 캐나다 방영일이 무엇이었습니까?\", \"sql\": \"SELECT (캐나다 방영일) FROM k22222 WHERE 미국 방영일 = 2008년 8월 8일\"}\n",
            "\n",
            "3\n",
            "{\"query\": {\"agg\": 0, \"sel\": 1, \"conds\": [[3, 0, \"2008년 2월 11일\"]]}, \"table_id\": \"k22222\", \"nlu\": \"캐나다 방영일이 2008년 2월 11일인 경우 시리즈 번호는 무엇인가요?\", \"sql\": \"SELECT (시리즈 번호) FROM k22222 WHERE 캐나다 방영일 = 2008년 2월 11일\"}\n",
            "\n",
            "4\n",
            "{\"query\": {\"agg\": 0, \"sel\": 5, \"conds\": [[4, 0, \"2008년 4월 4일\"]]}, \"table_id\": \"k22222\", \"nlu\": \"2008년 4월 4일의 미국 방영일의 생산 코드는 무엇인가?\", \"sql\": \"SELECT (생산 코드) FROM k22222 WHERE 미국 방영일 = 2008년 4월 4일\"}\n",
            "\n",
            "5\n",
            "Loaded 5 records from ./data_and_model/flask_test_1019/results_ec7339f2-4e61-4214-a670-cc6917777209_.jsonl\n"
          ]
        }
      ]
    }
  ]
}